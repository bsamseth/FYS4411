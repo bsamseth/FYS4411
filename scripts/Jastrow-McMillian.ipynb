{
 "cells": [
  {
   "cell_type": "markdown",
   "metadata": {},
   "source": [
    "# Jastrow Factor Derivatives\n",
    "\n",
    "This notebook calculates the expressions for the derivatives of the following Jastrow function:\n",
    "\n",
    "$$J(\\mathbf{X}) = \\prod_{i < j} \\exp\\left[- \\frac{1}{2}\\left(\\frac{\\beta}{r}\\right)^m  \\right]$$\n",
    "\n",
    "with $N$ particles in $D$ dimensions, $\\mathbf{X}\\in\\mathbb{R}^{N\\times D}$ and $r_{ij} = ||\\mathbf{X_i} - \\mathbf{X_j}||$."
   ]
  },
  {
   "cell_type": "code",
   "execution_count": 1,
   "metadata": {},
   "outputs": [],
   "source": [
    "%reload_ext blackcellmagic\n",
    "from sympy import *\n",
    "init_printing()"
   ]
  },
  {
   "cell_type": "code",
   "execution_count": 2,
   "metadata": {},
   "outputs": [],
   "source": [
    "N, D, i, j, k, l, d = symbols(\"N D i j k l d\", integer=True)\n",
    "X = IndexedBase(\"X\", shape=(N, D))\n"
   ]
  },
  {
   "cell_type": "markdown",
   "metadata": {},
   "source": [
    "## Definition\n"
   ]
  },
  {
   "cell_type": "code",
   "execution_count": 3,
   "metadata": {},
   "outputs": [
    {
     "data": {
      "image/png": "[encoded data removed]",
      "text/latex": [
       "$\\displaystyle e^{\\sum_{\\substack{1 \\leq i \\leq N - 1\\\\i + 1 \\leq j \\leq N}} - \\frac{\\left(\\frac{\\beta}{r{\\left(i,j \\right)}}\\right)^{n}}{2}}$"
      ],
      "text/plain": [
       "     N     N - 1             \n",
       "   _____   _____             \n",
       "   ╲       ╲                 \n",
       "    ╲       ╲              n \n",
       "     ╲       ╲    ⎛ \\beta ⎞  \n",
       "      ╲       ╲  -⎜───────⎟  \n",
       "      ╱       ╱   ⎝r(i, j)⎠  \n",
       "     ╱       ╱   ────────────\n",
       "    ╱       ╱         2      \n",
       "   ╱       ╱                 \n",
       "   ‾‾‾‾‾   ‾‾‾‾‾             \n",
       " j = i + 1 i = 1             \n",
       "ℯ                            "
      ]
     },
     "execution_count": 3,
     "metadata": {},
     "output_type": "execute_result"
    }
   ],
   "source": [
    "class r(Function):\n",
    "    @classmethod\n",
    "    def eval(cls, i, j):\n",
    "        if i.is_Number and j.is_Number:\n",
    "            return sqrt(Sum((X[i, d] - X[j, d]) ** 2, (d, 1, D)))\n",
    "\n",
    "    def doit(self, **kwargs):\n",
    "        i, j = self.args\n",
    "        return sqrt(Sum((X[i, d] - X[j, d]) ** 2, (d, 1, D)))\n",
    "\n",
    "    def _eval_derivative(self, x):\n",
    "        return self.doit()._eval_derivative(x)\n",
    "\n",
    "\n",
    "def J(X):\n",
    "    beta = symbols(r\"\\beta\", real=True, positive=True)\n",
    "    n = symbols(\"n\", integer=True, positive=True)\n",
    "    exponent = Sum(-(beta / r(i, j)) ** n / 2, (i, 1, N - 1), (j, i + 1, N))\n",
    "    return exp(exponent), (beta, n)\n",
    "\n",
    "\n",
    "Jastrow, (beta, n) = J(X)\n",
    "Jastrow\n"
   ]
  },
  {
   "cell_type": "code",
   "execution_count": 4,
   "metadata": {},
   "outputs": [
    {
     "data": {
      "image/png": "[encoded data removed]",
      "text/latex": [
       "$\\displaystyle \\sum_{\\substack{1 \\leq i \\leq N - 1\\\\i + 1 \\leq j \\leq N}} - \\frac{\\left(\\frac{\\beta}{r{\\left(i,j \\right)}}\\right)^{n}}{2}$"
      ],
      "text/plain": [
       "    N     N - 1             \n",
       "  _____   _____             \n",
       "  ╲       ╲                 \n",
       "   ╲       ╲              n \n",
       "    ╲       ╲    ⎛ \\beta ⎞  \n",
       "     ╲       ╲  -⎜───────⎟  \n",
       "     ╱       ╱   ⎝r(i, j)⎠  \n",
       "    ╱       ╱   ────────────\n",
       "   ╱       ╱         2      \n",
       "  ╱       ╱                 \n",
       "  ‾‾‾‾‾   ‾‾‾‾‾             \n",
       "j = i + 1 i = 1             "
      ]
     },
     "execution_count": 4,
     "metadata": {},
     "output_type": "execute_result"
    }
   ],
   "source": [
    "log_Jastrow = expand_log(log(Jastrow), force=True)\n",
    "log_Jastrow\n"
   ]
  },
  {
   "cell_type": "markdown",
   "metadata": {},
   "source": [
    "## Derivative w.r.t. $\\beta$\n"
   ]
  },
  {
   "cell_type": "code",
   "execution_count": 5,
   "metadata": {},
   "outputs": [
    {
     "data": {
      "image/png": "[encoded data removed]",
      "text/latex": [
       "$\\displaystyle - \\frac{\\beta^{n} n \\sum_{\\substack{1 \\leq i \\leq N - 1\\\\i + 1 \\leq j \\leq N}} r^{- n}{\\left(i,j \\right)}}{2 \\beta}$"
      ],
      "text/plain": [
       "              N     N - 1           \n",
       "             ___     ___            \n",
       "             ╲       ╲              \n",
       "      n       ╲       ╲    -n       \n",
       "-\\beta ⋅n⋅    ╱       ╱   r  (i, j) \n",
       "             ╱       ╱              \n",
       "             ‾‾‾     ‾‾‾            \n",
       "          j = i + 1 i = 1           \n",
       "────────────────────────────────────\n",
       "              2⋅\\beta               "
      ]
     },
     "execution_count": 5,
     "metadata": {},
     "output_type": "execute_result"
    }
   ],
   "source": [
    "dlogJ_dBeta = diff(log_Jastrow, beta, 1)\n",
    "dlogJ_dBeta.simplify()\n"
   ]
  },
  {
   "cell_type": "markdown",
   "metadata": {},
   "source": [
    "## Derivative w.r.t. $X_{kl}$\n"
   ]
  },
  {
   "cell_type": "code",
   "execution_count": 44,
   "metadata": {},
   "outputs": [
    {
     "data": {
      "image/png": "[encoded data removed]",
      "text/latex": [
       "$$\\sum_{\\substack{1 \\leq i \\leq N - 1\\\\i + 1 \\leq j \\leq N}} \\frac{n \\left(\\frac{\\beta}{r{\\left (i,j \\right )}}\\right)^{n} \\sum_{d=1}^{D} \\left(2 \\delta_{d l} \\delta_{i k} - 2 \\delta_{d l} \\delta_{j k}\\right) \\left({X}_{i,d} - {X}_{j,d}\\right)}{2 r{\\left (i,j \\right )} \\sqrt{\\sum_{d=1}^{D} \\left({X}_{i,d} - {X}_{j,d}\\right)^{2}}}$$"
      ],
      "text/plain": [
       "     N         N - 1                                                          \n",
       "___________ ___________                                                       \n",
       "╲           ╲                                                                 \n",
       " ╲           ╲                         D                                      \n",
       "  ╲           ╲                       ___                                     \n",
       "   ╲           ╲                   n  ╲                                       \n",
       "    ╲           ╲         ⎛ \\beta ⎞    ╲   ⎛2⋅δ   ⋅δ    - 2⋅δ   ⋅δ   ⎞⋅(X[i, d\n",
       "     ╲           ╲      n⋅⎜───────⎟ ⋅  ╱   ⎝   d,l  i,k      d,l  j,k⎠        \n",
       "      ╲           ╲       ⎝r(i, j)⎠   ╱                                       \n",
       "       ╲           ╲                  ‾‾‾                                     \n",
       "        ╲           ╲                d = 1                                    \n",
       "         ╲           ╲  ──────────────────────────────────────────────────────\n",
       "         ╱           ╱                              __________________________\n",
       "        ╱           ╱                              ╱   D                      \n",
       "       ╱           ╱                              ╱   ___                     \n",
       "      ╱           ╱                              ╱    ╲                       \n",
       "     ╱           ╱                              ╱      ╲                      \n",
       "    ╱           ╱                2⋅r(i, j)⋅    ╱       ╱   (X[i, d] - X[j, d])\n",
       "   ╱           ╱                              ╱       ╱                       \n",
       "  ╱           ╱                              ╱        ‾‾‾                     \n",
       " ╱           ╱                             ╲╱        d = 1                    \n",
       "╱           ╱                                                                 \n",
       "‾‾‾‾‾‾‾‾‾‾‾ ‾‾‾‾‾‾‾‾‾‾‾                                                       \n",
       " j = i + 1     i = 1                                                          \n",
       "\n",
       "            \n",
       "            \n",
       "            \n",
       "            \n",
       "            \n",
       "            \n",
       "] - X[j, d])\n",
       "            \n",
       "            \n",
       "            \n",
       "            \n",
       "────────────\n",
       "__          \n",
       "            \n",
       "            \n",
       "            \n",
       "2           \n",
       "            \n",
       "            \n",
       "            \n",
       "            \n",
       "            \n",
       "            \n",
       "            "
      ]
     },
     "execution_count": 44,
     "metadata": {},
     "output_type": "execute_result"
    }
   ],
   "source": [
    "dlogJ_dXkl = diff(log_Jastrow, X[k, l], 1)\n",
    "dlogJ_dXkl\n"
   ]
  },
  {
   "cell_type": "code",
   "execution_count": 58,
   "metadata": {},
   "outputs": [
    {
     "data": {
      "image/png": "[encoded data removed]",
      "text/latex": [
       "$$\\sum_{\\substack{1 \\leq i \\leq N - 1\\\\i + 1 \\leq j \\leq N}} \\frac{n \\left(\\frac{\\beta}{r{\\left (i,j \\right )}}\\right)^{n} \\left(\\delta_{i k} - \\delta_{j k}\\right) \\left({X}_{i,l} - {X}_{j,l}\\right)}{r^{2}{\\left (i,j \\right )}}$$"
      ],
      "text/plain": [
       "    N     N - 1                                                \n",
       "  ______  ______                                               \n",
       "  ╲       ╲                                                    \n",
       "   ╲       ╲                n                                  \n",
       "    ╲       ╲      ⎛ \\beta ⎞                                   \n",
       "     ╲       ╲   n⋅⎜───────⎟ ⋅⎛δ    - δ   ⎞⋅(X[i, l] - X[j, l])\n",
       "      ╲       ╲    ⎝r(i, j)⎠  ⎝ i,k    j,k⎠                    \n",
       "      ╱       ╱  ──────────────────────────────────────────────\n",
       "     ╱       ╱                       2                         \n",
       "    ╱       ╱                       r (i, j)                   \n",
       "   ╱       ╱                                                   \n",
       "  ╱       ╱                                                    \n",
       "  ‾‾‾‾‾‾  ‾‾‾‾‾‾                                               \n",
       "j = i + 1 i = 1                                                "
      ]
     },
     "execution_count": 58,
     "metadata": {},
     "output_type": "execute_result"
    }
   ],
   "source": [
    "# Manually simplify the above:\n",
    "dlogJ_dXkl = Sum(\n",
    "    n\n",
    "    * (beta / r(i, j)) ** n\n",
    "    * (KroneckerDelta(k, i) - KroneckerDelta(k, j))\n",
    "    * (X[i, l] - X[j, l])\n",
    "    / (r(i, j) ** 2),\n",
    "    (i, 1, N - 1),\n",
    "    (j, i + 1, N),\n",
    ")\n",
    "dlogJ_dXkl\n"
   ]
  },
  {
   "cell_type": "markdown",
   "metadata": {},
   "source": [
    "## Second derivative w.r.t. $X_{kl}$\n"
   ]
  },
  {
   "cell_type": "code",
   "execution_count": 59,
   "metadata": {},
   "outputs": [
    {
     "data": {
      "image/png": "[encoded data removed]",
      "text/latex": [
       "$$\\left(\\sum_{\\substack{1 \\leq i \\leq N - 1\\\\i + 1 \\leq j \\leq N}} \\frac{n \\left(\\frac{\\beta}{r{\\left (i,j \\right )}}\\right)^{n} \\left(\\delta_{i k} - \\delta_{j k}\\right) \\left({X}_{i,l} - {X}_{j,l}\\right)}{r^{2}{\\left (i,j \\right )}}\\right)^{2} + \\sum_{\\substack{1 \\leq i \\leq N - 1\\\\i + 1 \\leq j \\leq N}} \\left(- \\frac{n^{2} \\left(\\frac{\\beta}{r{\\left (i,j \\right )}}\\right)^{n} \\left(\\delta_{i k} - \\delta_{j k}\\right) \\left({X}_{i,l} - {X}_{j,l}\\right) \\sum_{d=1}^{D} \\left(2 \\delta_{d l} \\delta_{i k} - 2 \\delta_{d l} \\delta_{j k}\\right) \\left({X}_{i,d} - {X}_{j,d}\\right)}{2 r^{3}{\\left (i,j \\right )} \\sqrt{\\sum_{d=1}^{D} \\left({X}_{i,d} - {X}_{j,d}\\right)^{2}}} + \\frac{n \\left(\\frac{\\beta}{r{\\left (i,j \\right )}}\\right)^{n} \\left(\\delta_{i k} - \\delta_{j k}\\right)^{2}}{r^{2}{\\left (i,j \\right )}} - \\frac{n \\left(\\frac{\\beta}{r{\\left (i,j \\right )}}\\right)^{n} \\left(\\delta_{i k} - \\delta_{j k}\\right) \\left({X}_{i,l} - {X}_{j,l}\\right) \\sum_{d=1}^{D} \\left(2 \\delta_{d l} \\delta_{i k} - 2 \\delta_{d l} \\delta_{j k}\\right) \\left({X}_{i,d} - {X}_{j,d}\\right)}{r^{3}{\\left (i,j \\right )} \\sqrt{\\sum_{d=1}^{D} \\left({X}_{i,d} - {X}_{j,d}\\right)^{2}}}\\right)$$"
      ],
      "text/plain": [
       "                                                                          N   \n",
       "                                                                     _________\n",
       "                                                                     ╲        \n",
       "                                                                      ╲       \n",
       "                                                                 2     ╲      \n",
       "⎛    N     N - 1                                                ⎞       ╲     \n",
       "⎜  ______  ______                                               ⎟        ╲    \n",
       "⎜  ╲       ╲                                                    ⎟         ╲   \n",
       "⎜   ╲       ╲                n                                  ⎟          ╲  \n",
       "⎜    ╲       ╲      ⎛ \\beta ⎞                                   ⎟           ╲ \n",
       "⎜     ╲       ╲   n⋅⎜───────⎟ ⋅⎛δ    - δ   ⎞⋅(X[i, l] - X[j, l])⎟            ╲\n",
       "⎜      ╲       ╲    ⎝r(i, j)⎠  ⎝ i,k    j,k⎠                    ⎟             \n",
       "⎜      ╱       ╱  ──────────────────────────────────────────────⎟  +          \n",
       "⎜     ╱       ╱                       2                         ⎟            ╱\n",
       "⎜    ╱       ╱                       r (i, j)                   ⎟           ╱ \n",
       "⎜   ╱       ╱                                                   ⎟          ╱  \n",
       "⎜  ╱       ╱                                                    ⎟         ╱   \n",
       "⎜  ‾‾‾‾‾‾  ‾‾‾‾‾‾                                               ⎟        ╱    \n",
       "⎝j = i + 1 i = 1                                                ⎠       ╱     \n",
       "                                                                       ╱      \n",
       "                                                                      ╱       \n",
       "                                                                     ╱        \n",
       "                                                                     ‾‾‾‾‾‾‾‾‾\n",
       "                                                                      j = i + \n",
       "\n",
       "      N - 1                                                                   \n",
       "__ ___________                                                                \n",
       "   ╲                                                                          \n",
       "    ╲          ⎛                                                    D         \n",
       "     ╲         ⎜                                                   ___        \n",
       "      ╲        ⎜              n                                    ╲          \n",
       "       ╲       ⎜   2 ⎛ \\beta ⎞                                      ╲   ⎛2⋅δ  \n",
       "        ╲      ⎜  n ⋅⎜───────⎟ ⋅⎛δ    - δ   ⎞⋅(X[i, l] - X[j, l])⋅  ╱   ⎝   d,\n",
       "         ╲     ⎜     ⎝r(i, j)⎠  ⎝ i,k    j,k⎠                      ╱          \n",
       "          ╲    ⎜                                                   ‾‾‾        \n",
       "           ╲   ⎜                                                  d = 1       \n",
       "╲           ╲  ⎜- ────────────────────────────────────────────────────────────\n",
       "╱           ╱  ⎜                                                 _____________\n",
       "           ╱   ⎜                                                ╱   D         \n",
       "          ╱    ⎜                                               ╱   ___        \n",
       "         ╱     ⎜                                              ╱    ╲          \n",
       "        ╱      ⎜                                3            ╱      ╲         \n",
       "       ╱       ⎜                             2⋅r (i, j)⋅    ╱       ╱   (X[i, \n",
       "      ╱        ⎜                                           ╱       ╱          \n",
       "     ╱         ⎜                                          ╱        ‾‾‾        \n",
       "    ╱          ⎝                                        ╲╱        d = 1       \n",
       "   ╱                                                                          \n",
       "‾‾ ‾‾‾‾‾‾‾‾‾‾‾                                                                \n",
       "1     i = 1                                                                   \n",
       "\n",
       "                                                                              \n",
       "                                                                              \n",
       "                                                                              \n",
       "                                                                              \n",
       "                                                                              \n",
       "                                                                              \n",
       " ⋅δ    - 2⋅δ   ⋅δ   ⎞⋅(X[i, d] - X[j, d])                                   ⎛ \n",
       "l  i,k      d,l  j,k⎠                                  n                  n⋅⎜─\n",
       "                                              ⎛ \\beta ⎞               2     ⎝r\n",
       "                                            n⋅⎜───────⎟ ⋅⎛δ    - δ   ⎞        \n",
       "                                              ⎝r(i, j)⎠  ⎝ i,k    j,k⎠        \n",
       "───────────────────────────────────────── + ─────────────────────────── - ────\n",
       "_______________                                        2                      \n",
       "                                                      r (i, j)                \n",
       "                                                                              \n",
       "                                                                              \n",
       "             2                                                                \n",
       "d] - X[j, d])                                                                 \n",
       "                                                                              \n",
       "                                                                              \n",
       "                                                                              \n",
       "                                                                              \n",
       "                                                                              \n",
       "                                                                              \n",
       "\n",
       "                                                                              \n",
       "                                                                              \n",
       "                                                                              \n",
       "                                             D                                \n",
       "                                            ___                               \n",
       "       n                                    ╲                                 \n",
       "\\beta ⎞                                      ╲   ⎛2⋅δ   ⋅δ    - 2⋅δ   ⋅δ   ⎞⋅(\n",
       "──────⎟ ⋅⎛δ    - δ   ⎞⋅(X[i, l] - X[j, l])⋅  ╱   ⎝   d,l  i,k      d,l  j,k⎠  \n",
       "(i, j)⎠  ⎝ i,k    j,k⎠                      ╱                                 \n",
       "                                            ‾‾‾                               \n",
       "                                           d = 1                              \n",
       "──────────────────────────────────────────────────────────────────────────────\n",
       "                                         ____________________________         \n",
       "                                        ╱   D                                 \n",
       "                                       ╱   ___                                \n",
       "                                      ╱    ╲                                  \n",
       "                        3            ╱      ╲                      2          \n",
       "                       r (i, j)⋅    ╱       ╱   (X[i, d] - X[j, d])           \n",
       "                                   ╱       ╱                                  \n",
       "                                  ╱        ‾‾‾                                \n",
       "                                ╲╱        d = 1                               \n",
       "                                                                              \n",
       "                                                                              \n",
       "                                                                              \n",
       "\n",
       "                   \n",
       "                   \n",
       "                   \n",
       "                  ⎞\n",
       "                  ⎟\n",
       "                  ⎟\n",
       "X[i, d] - X[j, d])⎟\n",
       "                  ⎟\n",
       "                  ⎟\n",
       "                  ⎟\n",
       "                  ⎟\n",
       "──────────────────⎟\n",
       "                  ⎟\n",
       "                  ⎟\n",
       "                  ⎟\n",
       "                  ⎟\n",
       "                  ⎟\n",
       "                  ⎟\n",
       "                  ⎟\n",
       "                  ⎟\n",
       "                  ⎠\n",
       "                   \n",
       "                   \n",
       "                   "
      ]
     },
     "execution_count": 59,
     "metadata": {},
     "output_type": "execute_result"
    }
   ],
   "source": [
    "d2J_dXkl2 = dlogJ_dXkl ** 2 + diff(dlogJ_dXkl, X[k, l], 1)\n",
    "d2J_dXkl2\n"
   ]
  },
  {
   "cell_type": "code",
   "execution_count": 60,
   "metadata": {},
   "outputs": [
    {
     "data": {
      "image/png": "[encoded data removed]",
      "text/latex": [
       "$$\\sum_{\\substack{1 \\leq i \\leq N - 1\\\\i + 1 \\leq j \\leq N}} \\frac{n \\left(\\frac{\\beta}{r{\\left (i,j \\right )}}\\right)^{n} \\left(- \\frac{\\left(n + 2\\right) \\left({X}_{i,l} - {X}_{j,l}\\right)^{2}}{r^{2}{\\left (i,j \\right )}} + 1\\right) \\left(\\delta_{i k} - \\delta_{j k}\\right)^{2}}{r^{2}{\\left (i,j \\right )}} + \\left(\\sum_{\\substack{1 \\leq i \\leq N - 1\\\\i + 1 \\leq j \\leq N}} \\frac{n \\left(\\frac{\\beta}{r{\\left (i,j \\right )}}\\right)^{n} \\left(\\delta_{i k} - \\delta_{j k}\\right) \\left({X}_{i,l} - {X}_{j,l}\\right)}{r^{2}{\\left (i,j \\right )}}\\right)^{2}$$"
      ],
      "text/plain": [
       "                                                                              \n",
       "    N     N - 1                                                               \n",
       "  ______  ______                                                              \n",
       "  ╲       ╲                                                                   \n",
       "   ╲       ╲                n ⎛                             2    ⎞            \n",
       "    ╲       ╲      ⎛ \\beta ⎞  ⎜  (n + 2)⋅(X[i, l] - X[j, l])     ⎟            \n",
       "     ╲       ╲   n⋅⎜───────⎟ ⋅⎜- ──────────────────────────── + 1⎟⋅⎛δ    - δ  \n",
       "      ╲       ╲    ⎝r(i, j)⎠  ⎜             2                    ⎟ ⎝ i,k    j,\n",
       "      ╱       ╱               ⎝            r (i, j)              ⎠            \n",
       "     ╱       ╱   ─────────────────────────────────────────────────────────────\n",
       "    ╱       ╱                                 2                               \n",
       "   ╱       ╱                                 r (i, j)                         \n",
       "  ╱       ╱                                                                   \n",
       "  ‾‾‾‾‾‾  ‾‾‾‾‾‾                                                              \n",
       "j = i + 1 i = 1                                                               \n",
       "\n",
       "                                                                       2\n",
       "      ⎛    N     N - 1                                                ⎞ \n",
       "      ⎜  ______  ______                                               ⎟ \n",
       "      ⎜  ╲       ╲                                                    ⎟ \n",
       "      ⎜   ╲       ╲                n                                  ⎟ \n",
       "  2   ⎜    ╲       ╲      ⎛ \\beta ⎞                                   ⎟ \n",
       " ⎞    ⎜     ╲       ╲   n⋅⎜───────⎟ ⋅⎛δ    - δ   ⎞⋅(X[i, l] - X[j, l])⎟ \n",
       "k⎠    ⎜      ╲       ╲    ⎝r(i, j)⎠  ⎝ i,k    j,k⎠                    ⎟ \n",
       "    + ⎜      ╱       ╱  ──────────────────────────────────────────────⎟ \n",
       "───   ⎜     ╱       ╱                       2                         ⎟ \n",
       "      ⎜    ╱       ╱                       r (i, j)                   ⎟ \n",
       "      ⎜   ╱       ╱                                                   ⎟ \n",
       "      ⎜  ╱       ╱                                                    ⎟ \n",
       "      ⎜  ‾‾‾‾‾‾  ‾‾‾‾‾‾                                               ⎟ \n",
       "      ⎝j = i + 1 i = 1                                                ⎠ "
      ]
     },
     "execution_count": 60,
     "metadata": {},
     "output_type": "execute_result"
    }
   ],
   "source": [
    "# Manually simplify the above:\n",
    "d2J_dXkl2 = dlogJ_dXkl ** 2 + Sum(\n",
    "    n\n",
    "    * (beta / r(i, j)) ** n\n",
    "    / (r(i, j) ** 2)\n",
    "    * (KroneckerDelta(k, i) - KroneckerDelta(k, j)) ** 2\n",
    "    * (1 - (n + 2) / (r(i, j) ** 2) * (X[i, l] - X[j, l]) ** 2),\n",
    "    (i, 1, N - 1),\n",
    "    (j, i + 1, N),\n",
    ")\n",
    "d2J_dXkl2\n"
   ]
  },
  {
   "cell_type": "code",
   "execution_count": null,
   "metadata": {},
   "outputs": [],
   "source": []
  }
 ],
 "metadata": {
  "kernelspec": {
   "display_name": "thesis",
   "language": "python",
   "name": "thesis"
  },
  "language_info": {
   "codemirror_mode": {
    "name": "ipython",
    "version": 3
   },
   "file_extension": ".py",
   "mimetype": "text/x-python",
   "name": "python",
   "nbconvert_exporter": "python",
   "pygments_lexer": "ipython3",
   "version": "3.7.2"
  }
 },
 "nbformat": 4,
 "nbformat_minor": 2
}
