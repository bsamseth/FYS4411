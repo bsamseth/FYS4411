{
 "cells": [
  {
   "cell_type": "code",
   "execution_count": 1,
   "metadata": {},
   "outputs": [],
   "source": [
    "%reload_ext blackcellmagic\n",
    "%matplotlib inline\n",
    "import numpy as np\n",
    "import matplotlib.pyplot as plt\n",
    "\n",
    "from qflow.wavefunctions import (\n",
    "    JastrowMcMillian,\n",
    "    JastrowPade,\n",
    "    JastrowOrion,\n",
    "    SimpleGaussian,\n",
    "    WavefunctionProduct,\n",
    "    FixedWavefunction,\n",
    "    Dnn,\n",
    "    SumPooling,\n",
    ")\n",
    "from qflow.wavefunctions.nn.layers import DenseLayer\n",
    "from qflow.wavefunctions.nn.activations import sigmoid, tanh, relu, identity, exponential\n",
    "\n",
    "from qflow.hamiltonians import LennardJones, HDFHE2\n",
    "\n",
    "from qflow.samplers import BoxImportanceSampler\n",
    "from qflow.optimizers import AdamOptimizer, SgdOptimizer\n",
    "from qflow.training import train, EnergyCallback, SymmetryCallback, ParameterCallback\n",
    "from qflow.statistics import compute_statistics_for_series\n",
    "from qflow import DistanceCache\n",
    "\n",
    "def plot_training(energies, symmetries, parameters):\n",
    "    fig, (eax, sax, pax) = plt.subplots(ncols=3, figsize=(16, 4))\n",
    "    eax.plot(energies, label=r\"$\\langle E_L\\rangle$ [a.u]\")\n",
    "    sax.semilogx(symmetries, label=r\"$S(\\Psi)$\")\n",
    "    pax.semilogx(parameters)\n",
    "    eax.legend()\n",
    "    sax.legend()"
   ]
  },
  {
   "cell_type": "code",
   "execution_count": 7,
   "metadata": {},
   "outputs": [
    {
     "data": {
      "text/plain": [
       "<matplotlib.collections.LineCollection at 0x1249d65c0>"
      ]
     },
     "execution_count": 7,
     "metadata": {},
     "output_type": "execute_result"
    },
    {
     "data": {
      "image/png": "[encoded data removed]",
      "text/plain": [
       "<Figure size 432x288 with 1 Axes>"
      ]
     },
     "metadata": {
      "needs_background": "light"
     },
     "output_type": "display_data"
    }
   ],
   "source": [
    "H = LennardJones()\n",
    "x = np.linspace(.95, 3, 100)\n",
    "plt.plot(x, [H.internal_potential(np.array([[0, 0], [1, 0]])*x_) for x_ in x])\n",
    "plt.hlines(0, min(x), max(x), linestyles='dashed')"
   ]
  },
  {
   "cell_type": "code",
   "execution_count": 8,
   "metadata": {},
   "outputs": [
    {
     "data": {
      "text/plain": [
       "67.39562829023619"
      ]
     },
     "execution_count": 8,
     "metadata": {},
     "output_type": "execute_result"
    }
   ],
   "source": [
    "rho = 0.0196  # Å^-3\n",
    "P, D = 6, 3  # Particles, dimensions\n",
    "L = (P / rho)**(1/3) * 10\n",
    "system = np.empty((P, D))\n",
    "L"
   ]
  },
  {
   "cell_type": "code",
   "execution_count": 9,
   "metadata": {},
   "outputs": [
    {
     "name": "stdout",
     "output_type": "stream",
     "text": [
      "0.0\n",
      "[[67.02297926 66.86272813  0.18281976]\n",
      " [ 0.57960462 66.95993091  0.11097223]\n",
      " [66.93790921 67.34771211  0.58736403]\n",
      " [66.99335251 67.3314978   0.28338138]\n",
      " [67.30722932 67.13566336  0.16548176]\n",
      " [ 0.07560372  0.41636254 67.28572717]]\n",
      "59661087.90897225\n",
      "-339652158462.0337\n",
      "-339592497374.1247\n"
     ]
    }
   ],
   "source": [
    "#with DistanceCache(system):\n",
    "psi = JastrowMcMillian(5, 2.51)\n",
    "psi_sampler = BoxImportanceSampler(system, psi, L, 0.1)\n",
    "psi_sampler.thermalize(10000)\n",
    "s = psi_sampler.next_configuration()\n",
    "print(psi_sampler.acceptance_rate)\n",
    "print(s)\n",
    "print(H.internal_potential(s))\n",
    "print(H.kinetic_energy(s, psi))\n",
    "print(H.local_energy(s, psi))"
   ]
  },
  {
   "cell_type": "code",
   "execution_count": 10,
   "metadata": {},
   "outputs": [
    {
     "name": "stdout",
     "output_type": "stream",
     "text": [
      "EnergyCallback(iter=0): -1462874132474.7078\n",
      "EnergyCallback(iter=150): -1505809462691.0002\n",
      "EnergyCallback(iter=300): -1438451541297.9229\n",
      "EnergyCallback(iter=450): -1433860412747.0625\n",
      "EnergyCallback(iter=600): -1498459482259.243\n",
      "EnergyCallback(iter=750): -1606118112227.2236\n",
      "EnergyCallback(iter=900): -1457368383713.058\n",
      "EnergyCallback(iter=1050): -1413537401202.0637\n",
      "EnergyCallback(iter=1200): -1388664470432.7417\n",
      "EnergyCallback(iter=1350): -1326066314286.6816\n"
     ]
    },
    {
     "ename": "KeyboardInterrupt",
     "evalue": "",
     "output_type": "error",
     "traceback": [
      "\u001b[0;31m---------------------------------------------------------------------------\u001b[0m",
      "\u001b[0;31mKeyboardInterrupt\u001b[0m                         Traceback (most recent call last)",
      "\u001b[0;32m<ipython-input-10-efac3e87debe>\u001b[0m in \u001b[0;36m<module>\u001b[0;34m\u001b[0m\n\u001b[1;32m     12\u001b[0m         \u001b[0mgamma\u001b[0m\u001b[0;34m=\u001b[0m\u001b[0;36m0\u001b[0m\u001b[0;34m,\u001b[0m\u001b[0;34m\u001b[0m\u001b[0;34m\u001b[0m\u001b[0m\n\u001b[1;32m     13\u001b[0m         \u001b[0moptimizer\u001b[0m\u001b[0;34m=\u001b[0m\u001b[0mAdamOptimizer\u001b[0m\u001b[0;34m(\u001b[0m\u001b[0mlen\u001b[0m\u001b[0;34m(\u001b[0m\u001b[0mpsi\u001b[0m\u001b[0;34m.\u001b[0m\u001b[0mparameters\u001b[0m\u001b[0;34m)\u001b[0m\u001b[0;34m)\u001b[0m\u001b[0;34m,\u001b[0m\u001b[0;34m\u001b[0m\u001b[0;34m\u001b[0m\u001b[0m\n\u001b[0;32m---> 14\u001b[0;31m         \u001b[0mcall_backs\u001b[0m\u001b[0;34m=\u001b[0m\u001b[0;34m(\u001b[0m\u001b[0mpsi_energies\u001b[0m\u001b[0;34m,\u001b[0m \u001b[0mpsi_symmetries\u001b[0m\u001b[0;34m,\u001b[0m \u001b[0mpsi_parameters\u001b[0m\u001b[0;34m)\u001b[0m\u001b[0;34m,\u001b[0m\u001b[0;34m\u001b[0m\u001b[0;34m\u001b[0m\u001b[0m\n\u001b[0m\u001b[1;32m     15\u001b[0m     )\n\u001b[1;32m     16\u001b[0m \u001b[0mplot_training\u001b[0m\u001b[0;34m(\u001b[0m\u001b[0mnp\u001b[0m\u001b[0;34m.\u001b[0m\u001b[0marray\u001b[0m\u001b[0;34m(\u001b[0m\u001b[0mpsi_energies\u001b[0m\u001b[0;34m)\u001b[0m\u001b[0;34m/\u001b[0m\u001b[0mP\u001b[0m\u001b[0;34m,\u001b[0m \u001b[0mpsi_symmetries\u001b[0m\u001b[0;34m,\u001b[0m \u001b[0mpsi_parameters\u001b[0m\u001b[0;34m)\u001b[0m\u001b[0;34m\u001b[0m\u001b[0;34m\u001b[0m\u001b[0m\n",
      "\u001b[0;32m~/drive/uio/master/thesis/qflow/training.py\u001b[0m in \u001b[0;36mtrain\u001b[0;34m(psi, H, sampler, iters, samples, gamma, optimizer, verbose, call_backs, call_back_resolution)\u001b[0m\n\u001b[1;32m     64\u001b[0m         )\n\u001b[1;32m     65\u001b[0m         H.optimize_wavefunction(\n\u001b[0;32m---> 66\u001b[0;31m             \u001b[0mpsi\u001b[0m\u001b[0;34m,\u001b[0m \u001b[0msampler\u001b[0m\u001b[0;34m,\u001b[0m \u001b[0miterations_now\u001b[0m\u001b[0;34m,\u001b[0m \u001b[0msamples\u001b[0m\u001b[0;34m,\u001b[0m \u001b[0moptimizer\u001b[0m\u001b[0;34m,\u001b[0m \u001b[0mgamma\u001b[0m\u001b[0;34m,\u001b[0m \u001b[0mverbose\u001b[0m\u001b[0;34m\u001b[0m\u001b[0;34m\u001b[0m\u001b[0m\n\u001b[0m\u001b[1;32m     67\u001b[0m         )\n\u001b[1;32m     68\u001b[0m         \u001b[0mcompleted_iterations\u001b[0m \u001b[0;34m+=\u001b[0m \u001b[0miterations_now\u001b[0m\u001b[0;34m\u001b[0m\u001b[0;34m\u001b[0m\u001b[0m\n",
      "\u001b[0;31mKeyboardInterrupt\u001b[0m: "
     ]
    }
   ],
   "source": [
    "psi_energies = EnergyCallback(samples=5000, verbose=True)\n",
    "psi_symmetries = SymmetryCallback(samples=100)\n",
    "psi_parameters = ParameterCallback()\n",
    "\n",
    "with DistanceCache(system, L):\n",
    "    train(\n",
    "        psi,\n",
    "        H,\n",
    "        psi_sampler,\n",
    "        iters=15000,\n",
    "        samples=1000,\n",
    "        gamma=0,\n",
    "        optimizer=AdamOptimizer(len(psi.parameters)),\n",
    "        call_backs=(psi_energies, psi_symmetries, psi_parameters),\n",
    "    )\n",
    "plot_training(np.array(psi_energies)/P, psi_symmetries, psi_parameters)\n"
   ]
  },
  {
   "cell_type": "code",
   "execution_count": null,
   "metadata": {},
   "outputs": [],
   "source": []
  }
 ],
 "metadata": {
  "kernelspec": {
   "display_name": "thesis",
   "language": "python",
   "name": "thesis"
  },
  "language_info": {
   "codemirror_mode": {
    "name": "ipython",
    "version": 3
   },
   "file_extension": ".py",
   "mimetype": "text/x-python",
   "name": "python",
   "nbconvert_exporter": "python",
   "pygments_lexer": "ipython3",
   "version": "3.7.2"
  }
 },
 "nbformat": 4,
 "nbformat_minor": 2
}
