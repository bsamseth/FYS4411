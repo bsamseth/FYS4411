{
 "cells": [
  {
   "cell_type": "code",
   "execution_count": 1,
   "metadata": {},
   "outputs": [],
   "source": [
    "%reload_ext blackcellmagic\n",
    "%matplotlib inline\n",
    "import numpy as np\n",
    "import matplotlib.pyplot as plt\n",
    "\n",
    "from qflow.wavefunctions import (\n",
    "    JastrowMcMillian,\n",
    "    JastrowPade,\n",
    "    JastrowOrion,\n",
    "    SimpleGaussian,\n",
    "    WavefunctionProduct,\n",
    "    FixedWavefunction,\n",
    "    Dnn,\n",
    "    SumPooling,\n",
    ")\n",
    "from qflow.wavefunctions.nn.layers import DenseLayer\n",
    "from qflow.wavefunctions.nn.activations import sigmoid, tanh, relu, identity, exponential\n",
    "\n",
    "from qflow.hamiltonians import LennardJones, HDFHE2\n",
    "\n",
    "from qflow.samplers import BoxImportanceSampler, BoxMetropolisSampler\n",
    "from qflow.optimizers import AdamOptimizer, SgdOptimizer\n",
    "from qflow.training import train, EnergyCallback, SymmetryCallback, ParameterCallback\n",
    "from qflow.statistics import compute_statistics_for_series\n",
    "from qflow import DistanceCache\n",
    "\n",
    "def plot_training(energies, symmetries, parameters):\n",
    "    fig, (eax, sax, pax) = plt.subplots(ncols=3, figsize=(16, 4))\n",
    "    eax.plot(energies, label=r\"$\\langle E_L\\rangle$ [a.u]\")\n",
    "    sax.semilogx(symmetries, label=r\"$S(\\Psi)$\")\n",
    "    pax.semilogx(parameters)\n",
    "    eax.legend()\n",
    "    sax.legend()"
   ]
  },
  {
   "cell_type": "code",
   "execution_count": 2,
   "metadata": {},
   "outputs": [
    {
     "data": {
      "text/plain": [
       "<matplotlib.collections.LineCollection at 0x7fd901b94550>"
      ]
     },
     "execution_count": 2,
     "metadata": {},
     "output_type": "execute_result"
    },
    {
     "data": {
      "image/png": "[encoded data removed]",
      "text/plain": [
       "<Figure size 432x288 with 1 Axes>"
      ]
     },
     "metadata": {
      "needs_background": "light"
     },
     "output_type": "display_data"
    }
   ],
   "source": [
    "H = LennardJones()\n",
    "x = np.linspace(2.4, 5, 100)\n",
    "plt.plot(x, [H.internal_potential(np.array([[0, 0], [1, 0]])*x_) for x_ in x])\n",
    "plt.hlines(0, min(x), max(x), linestyles='dashed')"
   ]
  },
  {
   "cell_type": "code",
   "execution_count": 3,
   "metadata": {},
   "outputs": [
    {
     "data": {
      "text/plain": [
       "14.835697433860295"
      ]
     },
     "execution_count": 3,
     "metadata": {},
     "output_type": "execute_result"
    }
   ],
   "source": [
    "rho = 0.0196  # Å^-3\n",
    "P, D = 64, 3  # Particles, dimensions\n",
    "L = (P / rho)**(1/3)\n",
    "system = np.empty((P, D))\n",
    "L"
   ]
  },
  {
   "cell_type": "code",
   "execution_count": 4,
   "metadata": {},
   "outputs": [
    {
     "data": {
      "text/plain": [
       "3.1202677917818793"
      ]
     },
     "execution_count": 4,
     "metadata": {},
     "output_type": "execute_result"
    }
   ],
   "source": [
    "psi = JastrowMcMillian(5, 2.51)\n",
    "psi_sampler = BoxMetropolisSampler(system, psi, L, 5)\n",
    "s = psi_sampler.next_configuration()\n",
    "np.min([np.linalg.norm(s[i]-s[j]) for i in range(P) for j in range(P) if i!=j])"
   ]
  },
  {
   "cell_type": "code",
   "execution_count": 5,
   "metadata": {},
   "outputs": [
    {
     "name": "stdout",
     "output_type": "stream",
     "text": [
      "0.2338766123387661\n",
      "-1020.5840965008332\n",
      "239.29820795944104\n",
      "-781.2858885413922\n",
      "2.2185815880360873\n"
     ]
    }
   ],
   "source": [
    "with DistanceCache(system, L):\n",
    "    psi = JastrowMcMillian(5, 2.51)\n",
    "    psi_sampler = BoxMetropolisSampler(system, psi, L, 5)\n",
    "    psi_sampler.thermalize(10000)\n",
    "    s = psi_sampler.next_configuration()\n",
    "    print(psi_sampler.acceptance_rate)\n",
    "    print(H.internal_potential(s))\n",
    "    print(H.kinetic_energy(s, psi))\n",
    "    print(H.local_energy(s, psi))\n",
    "    print(np.min([np.linalg.norm(s[i]-s[j]) for i in range(P) for j in range(P) if i!=j]))"
   ]
  },
  {
   "cell_type": "code",
   "execution_count": null,
   "metadata": {},
   "outputs": [
    {
     "name": "stdout",
     "output_type": "stream",
     "text": [
      "EnergyCallback(iter=0): 9060569.090488505\n",
      "EnergyCallback(iter=150): 9079008.54740923\n",
      "EnergyCallback(iter=300): 9068357.689196607\n",
      "EnergyCallback(iter=450): 9094245.557185026\n",
      "EnergyCallback(iter=600): 9026552.68933872\n"
     ]
    }
   ],
   "source": [
    "psi_energies = EnergyCallback(samples=5000, verbose=True)\n",
    "psi_symmetries = SymmetryCallback(samples=100)\n",
    "psi_parameters = ParameterCallback()\n",
    "\n",
    "with DistanceCache(system, L):\n",
    "    train(\n",
    "        psi,\n",
    "        H,\n",
    "        psi_sampler,\n",
    "        iters=15000,\n",
    "        samples=1000,\n",
    "        gamma=0,\n",
    "        optimizer=AdamOptimizer(len(psi.parameters)),\n",
    "        call_backs=(psi_energies, psi_symmetries, psi_parameters),\n",
    "    )\n",
    "plot_training(np.array(psi_energies)/P, psi_symmetries, psi_parameters)\n"
   ]
  },
  {
   "cell_type": "code",
   "execution_count": 7,
   "metadata": {},
   "outputs": [
    {
     "data": {
      "text/plain": [
       "0.0"
      ]
     },
     "execution_count": 7,
     "metadata": {},
     "output_type": "execute_result"
    }
   ],
   "source": [
    "psi_sampler.acceptance_rate"
   ]
  },
  {
   "cell_type": "code",
   "execution_count": null,
   "metadata": {},
   "outputs": [],
   "source": []
  }
 ],
 "metadata": {
  "kernelspec": {
   "display_name": "thesis",
   "language": "python",
   "name": "thesis"
  },
  "language_info": {
   "codemirror_mode": {
    "name": "ipython",
    "version": 3
   },
   "file_extension": ".py",
   "mimetype": "text/x-python",
   "name": "python",
   "nbconvert_exporter": "python",
   "pygments_lexer": "ipython3",
   "version": "3.7.2"
  }
 },
 "nbformat": 4,
 "nbformat_minor": 2
}
