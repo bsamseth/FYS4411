{
 "cells": [
  {
   "cell_type": "markdown",
   "metadata": {},
   "source": [
    "# Jastrow Factor Derivatives\n",
    "\n",
    "This notebook calculates the expressions for the derivatives of the following Jastrow function:\n",
    "\n",
    "$$J(\\mathbf{X}) = \\prod_{i < j} \\exp\\left(\\frac{\\alpha r_{ij}}{1 + \\beta r_{ij}}\\right)$$\n",
    "\n",
    "with $N$ particles in $D$ dimensions, $\\mathbf{X}\\in\\mathbb{R}^{N\\times D}$ and $r_{ij} = ||\\mathbf{X_i} - \\mathbf{X_j}||$."
   ]
  },
  {
   "cell_type": "code",
   "execution_count": 1,
   "metadata": {},
   "outputs": [],
   "source": [
    "%reload_ext blackcellmagic\n",
    "from sympy import *\n",
    "init_printing()"
   ]
  },
  {
   "cell_type": "code",
   "execution_count": 2,
   "metadata": {},
   "outputs": [],
   "source": [
    "N, D, i, j, k, l, d = symbols(\"N D i j k l d\", integer=True)\n",
    "X = IndexedBase(\"X\", shape=(N, D))\n"
   ]
  },
  {
   "cell_type": "markdown",
   "metadata": {},
   "source": [
    "## Definition\n"
   ]
  },
  {
   "cell_type": "code",
   "execution_count": 45,
   "metadata": {},
   "outputs": [],
   "source": [
    "class r(Function):\n",
    "    @classmethod\n",
    "    def eval(cls, i, j):\n",
    "        if i.is_Number and j.is_Number:\n",
    "            return sqrt(Sum((X[i, d] - X[j, d]) ** 2, (d, 1, D)))\n",
    "\n",
    "    def doit(self, **kwargs):\n",
    "        i, j = self.args\n",
    "        return sqrt(Sum((X[i, d] - X[j, d]) ** 2, (d, 1, D)))\n",
    "\n",
    "    def _eval_derivative(self, x):\n",
    "        return self.doit()._eval_derivative(x)\n",
    "\n",
    "\n",
    "def J(X):\n",
    "    alpha, beta = symbols(r\"\\alpha \\beta\", real=True)\n",
    "    exponent = Sum(alpha * r(i, j) / (1 + beta * r(i, j)), (i, 1, N - 1), (j, i + 1, N))\n",
    "    return exp(exponent), (alpha, beta)\n",
    "\n",
    "\n",
    "Jastrow, (alpha, beta) = J(X)\n",
    "Jastrow\n"
   ]
  },
  {
   "cell_type": "code",
   "execution_count": 46,
   "metadata": {},
   "outputs": [
    {
     "data": {
      "image/png": "[encoded data removed]",
      "text/latex": [
       "$$\\sum_{\\substack{1 \\leq i \\leq N - 1\\\\i + 1 \\leq j \\leq N}} \\frac{\\alpha r{\\left (i,j \\right )}}{\\beta r{\\left (i,j \\right )} + 1}$$"
      ],
      "text/plain": [
       "    N     N - 1                  \n",
       "   ____    ____                  \n",
       "   ╲       ╲                     \n",
       "    ╲       ╲     \\alpha⋅r(i, j) \n",
       "     ╲       ╲  ─────────────────\n",
       "     ╱       ╱  \\beta⋅r(i, j) + 1\n",
       "    ╱       ╱                    \n",
       "   ╱       ╱                     \n",
       "   ‾‾‾‾    ‾‾‾‾                  \n",
       "j = i + 1 i = 1                  "
      ]
     },
     "execution_count": 46,
     "metadata": {},
     "output_type": "execute_result"
    }
   ],
   "source": [
    "log_Jastrow = expand_log(log(Jastrow), force=True)\n",
    "log_Jastrow\n"
   ]
  },
  {
   "cell_type": "markdown",
   "metadata": {},
   "source": [
    "## Derivative w.r.t. $\\beta$\n"
   ]
  },
  {
   "cell_type": "code",
   "execution_count": 47,
   "metadata": {},
   "outputs": [
    {
     "data": {
      "image/png": "[encoded data removed]",
      "text/latex": [
       "$$\\sum_{\\substack{1 \\leq i \\leq N - 1\\\\i + 1 \\leq j \\leq N}} - \\frac{\\alpha r^{2}{\\left (i,j \\right )}}{\\left(\\beta r{\\left (i,j \\right )} + 1\\right)^{2}}$$"
      ],
      "text/plain": [
       "    N     N - 1                     \n",
       "  _____   _____                     \n",
       "  ╲       ╲                         \n",
       "   ╲       ╲              2         \n",
       "    ╲       ╲    -\\alpha⋅r (i, j)   \n",
       "     ╲       ╲  ────────────────────\n",
       "     ╱       ╱                     2\n",
       "    ╱       ╱   (\\beta⋅r(i, j) + 1) \n",
       "   ╱       ╱                        \n",
       "  ╱       ╱                         \n",
       "  ‾‾‾‾‾   ‾‾‾‾‾                     \n",
       "j = i + 1 i = 1                     "
      ]
     },
     "execution_count": 47,
     "metadata": {},
     "output_type": "execute_result"
    }
   ],
   "source": [
    "dlogJ_dBeta = diff(log_Jastrow, beta, 1)\n",
    "dlogJ_dBeta\n"
   ]
  },
  {
   "cell_type": "markdown",
   "metadata": {},
   "source": [
    "## Derivative w.r.t. $X_{kl}$\n"
   ]
  },
  {
   "cell_type": "code",
   "execution_count": 48,
   "metadata": {},
   "outputs": [
    {
     "data": {
      "image/png": "[encoded data removed]",
      "text/latex": [
       "$$\\sum_{\\substack{1 \\leq i \\leq N - 1\\\\i + 1 \\leq j \\leq N}} \\left(- \\frac{\\alpha \\beta r{\\left (i,j \\right )} \\sum_{d=1}^{D} \\left(2 \\delta_{d l} \\delta_{i k} - 2 \\delta_{d l} \\delta_{j k}\\right) \\left({X}_{i,d} - {X}_{j,d}\\right)}{2 \\left(\\beta r{\\left (i,j \\right )} + 1\\right)^{2} \\sqrt{\\sum_{d=1}^{D} \\left({X}_{i,d} - {X}_{j,d}\\right)^{2}}} + \\frac{\\alpha \\sum_{d=1}^{D} \\left(2 \\delta_{d l} \\delta_{i k} - 2 \\delta_{d l} \\delta_{j k}\\right) \\left({X}_{i,d} - {X}_{j,d}\\right)}{2 \\left(\\beta r{\\left (i,j \\right )} + 1\\right) \\sqrt{\\sum_{d=1}^{D} \\left({X}_{i,d} - {X}_{j,d}\\right)^{2}}}\\right)$$"
      ],
      "text/plain": [
       "     N         N - 1                                                          \n",
       "___________ ___________                                                       \n",
       "╲           ╲                                                                 \n",
       " ╲           ╲          ⎛                         D                           \n",
       "  ╲           ╲         ⎜                        ___                          \n",
       "   ╲           ╲        ⎜                        ╲                            \n",
       "    ╲           ╲       ⎜                         ╲   ⎛2⋅δ   ⋅δ    - 2⋅δ   ⋅δ \n",
       "     ╲           ╲      ⎜  \\alpha⋅\\beta⋅r(i, j)⋅  ╱   ⎝   d,l  i,k      d,l  j\n",
       "      ╲           ╲     ⎜                        ╱                            \n",
       "       ╲           ╲    ⎜                        ‾‾‾                          \n",
       "        ╲           ╲   ⎜                       d = 1                         \n",
       "         ╲           ╲  ⎜- ───────────────────────────────────────────────────\n",
       "         ╱           ╱  ⎜                                         ____________\n",
       "        ╱           ╱   ⎜                                        ╱   D        \n",
       "       ╱           ╱    ⎜                                       ╱   ___       \n",
       "      ╱           ╱     ⎜                                      ╱    ╲         \n",
       "     ╱           ╱      ⎜                              2      ╱      ╲        \n",
       "    ╱           ╱       ⎜         2⋅(\\beta⋅r(i, j) + 1) ⋅    ╱       ╱   (X[i,\n",
       "   ╱           ╱        ⎜                                   ╱       ╱         \n",
       "  ╱           ╱         ⎜                                  ╱        ‾‾‾       \n",
       " ╱           ╱          ⎝                                ╲╱        d = 1      \n",
       "╱           ╱                                                                 \n",
       "‾‾‾‾‾‾‾‾‾‾‾ ‾‾‾‾‾‾‾‾‾‾‾                                                       \n",
       " j = i + 1     i = 1                                                          \n",
       "\n",
       "                                                                              \n",
       "                                                                              \n",
       "                                                                              \n",
       "                                   D                                          \n",
       "                                  ___                                         \n",
       "                                  ╲                                           \n",
       "  ⎞⋅(X[i, d] - X[j, d])            ╲   ⎛2⋅δ   ⋅δ    - 2⋅δ   ⋅δ   ⎞⋅(X[i, d] - \n",
       ",k⎠                       \\alpha⋅  ╱   ⎝   d,l  i,k      d,l  j,k⎠            \n",
       "                                  ╱                                           \n",
       "                                  ‾‾‾                                         \n",
       "                                 d = 1                                        \n",
       "─────────────────────── + ────────────────────────────────────────────────────\n",
       "________________                                         _____________________\n",
       "                                                        ╱   D                 \n",
       "                                                       ╱   ___                \n",
       "                                                      ╱    ╲                  \n",
       "              2                                      ╱      ╲                 \n",
       " d] - X[j, d])            2⋅(\\beta⋅r(i, j) + 1)⋅    ╱       ╱   (X[i, d] - X[j\n",
       "                                                   ╱       ╱                  \n",
       "                                                  ╱        ‾‾‾                \n",
       "                                                ╲╱        d = 1               \n",
       "                                                                              \n",
       "                                                                              \n",
       "                                                                              \n",
       "\n",
       "         \n",
       "         \n",
       "         \n",
       "        ⎞\n",
       "        ⎟\n",
       "        ⎟\n",
       "X[j, d])⎟\n",
       "        ⎟\n",
       "        ⎟\n",
       "        ⎟\n",
       "        ⎟\n",
       "────────⎟\n",
       "_______ ⎟\n",
       "        ⎟\n",
       "        ⎟\n",
       "        ⎟\n",
       "     2  ⎟\n",
       ", d])   ⎟\n",
       "        ⎟\n",
       "        ⎟\n",
       "        ⎠\n",
       "         \n",
       "         \n",
       "         "
      ]
     },
     "execution_count": 48,
     "metadata": {},
     "output_type": "execute_result"
    }
   ],
   "source": [
    "dlogJ_dXkl = diff(log_Jastrow, X[k, l], 1)\n",
    "dlogJ_dXkl\n"
   ]
  },
  {
   "cell_type": "code",
   "execution_count": 49,
   "metadata": {},
   "outputs": [
    {
     "data": {
      "image/png": "[encoded data removed]",
      "text/latex": [
       "$$\\sum_{\\substack{1 \\leq i \\leq N - 1\\\\i + 1 \\leq j \\leq N}} \\frac{\\alpha \\left(\\delta_{i k} - \\delta_{j k}\\right) \\left({X}_{i,l} - {X}_{j,l}\\right)}{\\left(\\beta r{\\left (i,j \\right )} + 1\\right)^{2} r{\\left (i,j \\right )}}$$"
      ],
      "text/plain": [
       "    N     N - 1                                         \n",
       "  _____   _____                                         \n",
       "  ╲       ╲                                             \n",
       "   ╲       ╲    \\alpha⋅⎛δ    - δ   ⎞⋅(X[i, l] - X[j, l])\n",
       "    ╲       ╲          ⎝ i,k    j,k⎠                    \n",
       "     ╲       ╲  ────────────────────────────────────────\n",
       "     ╱       ╱                           2              \n",
       "    ╱       ╱         (\\beta⋅r(i, j) + 1) ⋅r(i, j)      \n",
       "   ╱       ╱                                            \n",
       "  ╱       ╱                                             \n",
       "  ‾‾‾‾‾   ‾‾‾‾‾                                         \n",
       "j = i + 1 i = 1                                         "
      ]
     },
     "execution_count": 49,
     "metadata": {},
     "output_type": "execute_result"
    }
   ],
   "source": [
    "# Manually simplify the above:\n",
    "dlogJ_dXkl = Sum(\n",
    "    alpha\n",
    "    * beta\n",
    "    * (KroneckerDelta(k, i) - KroneckerDelta(k, j))\n",
    "    * (X[i, l] - X[j, l])\n",
    "    / (beta * r(i, j) + 1)\n",
    "    / (beta * r(i, j) * (beta * r(i, j) + 1)),\n",
    "    (i, 1, N - 1),\n",
    "    (j, i + 1, N),\n",
    ")\n",
    "dlogJ_dXkl\n"
   ]
  },
  {
   "cell_type": "markdown",
   "metadata": {},
   "source": [
    "## Second derivative w.r.t. $X_{kl}$\n"
   ]
  },
  {
   "cell_type": "code",
   "execution_count": 53,
   "metadata": {},
   "outputs": [
    {
     "data": {
      "image/png": "[encoded data removed]",
      "text/latex": [
       "$$\\left(\\sum_{\\substack{1 \\leq i \\leq N - 1\\\\i + 1 \\leq j \\leq N}} \\frac{\\alpha \\left(\\delta_{i k} - \\delta_{j k}\\right) \\left({X}_{i,l} - {X}_{j,l}\\right)}{r{\\left (i,j \\right )}}\\right)^{2} + \\sum_{\\substack{1 \\leq i \\leq N - 1\\\\i + 1 \\leq j \\leq N}} \\left(\\frac{\\alpha \\left(\\delta_{i k} - \\delta_{j k}\\right)^{2}}{r{\\left (i,j \\right )}} - \\frac{\\alpha \\left(\\delta_{i k} - \\delta_{j k}\\right) \\left({X}_{i,l} - {X}_{j,l}\\right) \\sum_{d=1}^{D} \\left(2 \\delta_{d l} \\delta_{i k} - 2 \\delta_{d l} \\delta_{j k}\\right) \\left({X}_{i,d} - {X}_{j,d}\\right)}{2 r^{2}{\\left (i,j \\right )} \\sqrt{\\sum_{d=1}^{D} \\left({X}_{i,d} - {X}_{j,d}\\right)^{2}}}\\right)$$"
      ],
      "text/plain": [
       "                                                                   N         N\n",
       "                                                              ___________ ____\n",
       "                                                              ╲           ╲   \n",
       "                                                               ╲           ╲  \n",
       "                                                                ╲           ╲ \n",
       "                                                                 ╲           ╲\n",
       "                                                          2       ╲           \n",
       "⎛    N     N - 1                                         ⎞         ╲          \n",
       "⎜   ____    ____                                         ⎟          ╲         \n",
       "⎜   ╲       ╲                                            ⎟           ╲        \n",
       "⎜    ╲       ╲   \\alpha⋅⎛δ    - δ   ⎞⋅(X[i, l] - X[j, l])⎟            ╲       \n",
       "⎜     ╲       ╲         ⎝ i,k    j,k⎠                    ⎟             ╲      \n",
       "⎜     ╱       ╱  ────────────────────────────────────────⎟  +          ╱      \n",
       "⎜    ╱       ╱                   r(i, j)                 ⎟            ╱       \n",
       "⎜   ╱       ╱                                            ⎟           ╱        \n",
       "⎜   ‾‾‾‾    ‾‾‾‾                                         ⎟          ╱         \n",
       "⎝j = i + 1 i = 1                                         ⎠         ╱          \n",
       "                                                                  ╱           \n",
       "                                                                 ╱           ╱\n",
       "                                                                ╱           ╱ \n",
       "                                                               ╱           ╱  \n",
       "                                                              ╱           ╱   \n",
       "                                                              ‾‾‾‾‾‾‾‾‾‾‾ ‾‾‾‾\n",
       "                                                               j = i + 1     i\n",
       "\n",
       " - 1                                                                          \n",
       "_______                                                                       \n",
       "                                                                              \n",
       "        ⎛                                                                   D \n",
       "        ⎜                                                                  ___\n",
       "        ⎜                                                                  ╲  \n",
       "╲       ⎜                                                                   ╲ \n",
       " ╲      ⎜                        \\alpha⋅⎛δ    - δ   ⎞⋅(X[i, l] - X[j, l])⋅  ╱ \n",
       "  ╲     ⎜                    2          ⎝ i,k    j,k⎠                      ╱  \n",
       "   ╲    ⎜\\alpha⋅⎛δ    - δ   ⎞                                              ‾‾‾\n",
       "    ╲   ⎜       ⎝ i,k    j,k⎠                                             d = \n",
       "     ╲  ⎜───────────────────── - ─────────────────────────────────────────────\n",
       "     ╱  ⎜       r(i, j)                                                     __\n",
       "    ╱   ⎜                                                                  ╱  \n",
       "   ╱    ⎜                                                                 ╱   \n",
       "  ╱     ⎜                                                                ╱    \n",
       " ╱      ⎜                                                  2            ╱     \n",
       "╱       ⎜                                               2⋅r (i, j)⋅    ╱      \n",
       "        ⎜                                                             ╱       \n",
       "        ⎜                                                            ╱        \n",
       "        ⎝                                                          ╲╱        d\n",
       "                                                                              \n",
       "‾‾‾‾‾‾‾                                                                       \n",
       " = 1                                                                          \n",
       "\n",
       "                                                  \n",
       "                                                  \n",
       "                                                  \n",
       "                                                 ⎞\n",
       "                                                 ⎟\n",
       "                                                 ⎟\n",
       "  ⎛2⋅δ   ⋅δ    - 2⋅δ   ⋅δ   ⎞⋅(X[i, d] - X[j, d])⎟\n",
       "  ⎝   d,l  i,k      d,l  j,k⎠                    ⎟\n",
       "                                                 ⎟\n",
       "                                                 ⎟\n",
       "1                                                ⎟\n",
       "─────────────────────────────────────────────────⎟\n",
       "__________________________                       ⎟\n",
       " D                                               ⎟\n",
       "___                                              ⎟\n",
       "╲                                                ⎟\n",
       " ╲                      2                        ⎟\n",
       " ╱   (X[i, d] - X[j, d])                         ⎟\n",
       "╱                                                ⎟\n",
       "‾‾‾                                              ⎟\n",
       " = 1                                             ⎠\n",
       "                                                  \n",
       "                                                  \n",
       "                                                  "
      ]
     },
     "execution_count": 53,
     "metadata": {},
     "output_type": "execute_result"
    }
   ],
   "source": [
    "d2J_dXkl2 = dlogJ_dXkl ** 2 + diff(dlogJ_dXkl, X[k, l], 1)\n",
    "d2J_dXkl2.subs(beta, 0)\n"
   ]
  },
  {
   "cell_type": "code",
   "execution_count": 86,
   "metadata": {},
   "outputs": [
    {
     "data": {
      "image/png": "[encoded data removed]",
      "text/latex": [
       "$$\\left(\\sum_{\\substack{1 \\leq i \\leq N - 1\\\\i + 1 \\leq j \\leq N}} \\frac{\\alpha \\left(\\delta_{i k} - \\delta_{j k}\\right) \\left({X}_{i,l} - {X}_{j,l}\\right)}{\\left(\\beta r{\\left (i,j \\right )} + 1\\right)^{2} r{\\left (i,j \\right )}}\\right)^{2} + \\sum_{\\substack{1 \\leq i \\leq N - 1\\\\i + 1 \\leq j \\leq N}} \\frac{\\alpha \\left(\\delta_{i k} - \\delta_{j k}\\right)^{2} \\left({X}_{i,l} - {X}_{j,l}\\right)^{2} \\left(- 3 \\beta r{\\left (i,j \\right )} + \\frac{\\left(\\beta r{\\left (i,j \\right )} + 1\\right) r^{2}{\\left (i,j \\right )}}{\\left({X}_{i,l} - {X}_{j,l}\\right)^{2}} - 1\\right)}{\\left(\\beta r{\\left (i,j \\right )} + 1\\right)^{3} r^{3}{\\left (i,j \\right )}}$$"
      ],
      "text/plain": [
       "                                                          2       N     N - 1 \n",
       "⎛    N     N - 1                                         ⎞      ______  ______\n",
       "⎜  _____   _____                                         ⎟      ╲       ╲     \n",
       "⎜  ╲       ╲                                             ⎟       ╲       ╲    \n",
       "⎜   ╲       ╲    \\alpha⋅⎛δ    - δ   ⎞⋅(X[i, l] - X[j, l])⎟        ╲       ╲   \n",
       "⎜    ╲       ╲          ⎝ i,k    j,k⎠                    ⎟         ╲       ╲  \n",
       "⎜     ╲       ╲  ────────────────────────────────────────⎟          ╲       ╲ \n",
       "⎜     ╱       ╱                           2              ⎟  +       ╱       ╱ \n",
       "⎜    ╱       ╱         (\\beta⋅r(i, j) + 1) ⋅r(i, j)      ⎟         ╱       ╱  \n",
       "⎜   ╱       ╱                                            ⎟        ╱       ╱   \n",
       "⎜  ╱       ╱                                             ⎟       ╱       ╱    \n",
       "⎜  ‾‾‾‾‾   ‾‾‾‾‾                                         ⎟      ╱       ╱     \n",
       "⎝j = i + 1 i = 1                                         ⎠      ‾‾‾‾‾‾  ‾‾‾‾‾‾\n",
       "                                                              j = i + 1 i = 1 \n",
       "\n",
       "                                                                              \n",
       "                                                                              \n",
       "                                                                              \n",
       "                                            ⎛                                 \n",
       "                     2                    2 ⎜                   (\\beta⋅r(i, j)\n",
       " \\alpha⋅⎛δ    - δ   ⎞ ⋅(X[i, l] - X[j, l]) ⋅⎜-3⋅\\beta⋅r(i, j) + ──────────────\n",
       "        ⎝ i,k    j,k⎠                       ⎜                                 \n",
       "                                            ⎝                       (X[i, l] -\n",
       " ─────────────────────────────────────────────────────────────────────────────\n",
       "                                                     3  3                     \n",
       "                                  (\\beta⋅r(i, j) + 1) ⋅r (i, j)               \n",
       "                                                                              \n",
       "                                                                              \n",
       "                                                                              \n",
       "\n",
       "                   \n",
       "                   \n",
       "                   \n",
       "       2          ⎞\n",
       " + 1)⋅r (i, j)    ⎟\n",
       "────────────── - 1⎟\n",
       "         2        ⎟\n",
       " X[j, l])         ⎠\n",
       "───────────────────\n",
       "                   \n",
       "                   \n",
       "                   \n",
       "                   \n",
       "                   "
      ]
     },
     "execution_count": 86,
     "metadata": {},
     "output_type": "execute_result"
    }
   ],
   "source": [
    "# Manually simplify the above:\n",
    "d2J_dXkl2 = dlogJ_dXkl ** 2 + Sum(\n",
    "    alpha\n",
    "    * (KroneckerDelta(k, i) - KroneckerDelta(k, j)) ** 2\n",
    "    * (X[i, l] - X[j, l]) ** 2\n",
    "    / (beta * r(i, j) + 1) ** 3\n",
    "    / r(i, j) ** 3\n",
    "    * (\n",
    "        (beta * r(i, j) + 1) * r(i, j) ** 2 / (X[i, l] - X[j, l]) ** 2\n",
    "        - 3 * beta * r(i, j)\n",
    "        - 1\n",
    "    ),\n",
    "    (i, 1, N - 1),\n",
    "    (j, i + 1, N),\n",
    ")\n",
    "d2J_dXkl2\n"
   ]
  },
  {
   "cell_type": "code",
   "execution_count": null,
   "metadata": {},
   "outputs": [],
   "source": []
  }
 ],
 "metadata": {
  "kernelspec": {
   "display_name": "thesis",
   "language": "python",
   "name": "thesis"
  },
  "language_info": {
   "codemirror_mode": {
    "name": "ipython",
    "version": 3
   },
   "file_extension": ".py",
   "mimetype": "text/x-python",
   "name": "python",
   "nbconvert_exporter": "python",
   "pygments_lexer": "ipython3",
   "version": "3.7.2"
  }
 },
 "nbformat": 4,
 "nbformat_minor": 2
}
