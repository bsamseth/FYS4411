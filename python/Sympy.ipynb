{
 "cells": [
  {
   "cell_type": "code",
   "execution_count": 78,
   "metadata": {
    "collapsed": false
   },
   "outputs": [
    {
     "name": "stdout",
     "output_type": "stream",
     "text": [
      "IPython console for SymPy 1.0 (Python 3.6.4-64-bit) (ground types: python)\n",
      "\n",
      "These commands were executed:\n",
      ">>> from __future__ import division\n",
      ">>> from sympy import *\n",
      ">>> x, y, z, t = symbols('x y z t')\n",
      ">>> k, m, n = symbols('k m n', integer=True)\n",
      ">>> f, g, h = symbols('f g h', cls=Function)\n",
      ">>> init_printing()\n",
      "\n",
      "Documentation can be found at http://docs.sympy.org/1.0/\n"
     ]
    }
   ],
   "source": [
    "from sympy import *\n",
    "from sympy.physics.quantum.constants import hbar\n",
    "init_session()"
   ]
  },
  {
   "cell_type": "code",
   "execution_count": 82,
   "metadata": {
    "collapsed": false
   },
   "outputs": [],
   "source": [
    "m, omega = symbols('m ω', real=True, positive=True)\n",
    "\n",
    "def laplace(expr, *axes):\n",
    "    return sum(diff(expr, axis, 2) for axis in axes)\n",
    "\n",
    "def integralND(expr, *axes):\n",
    "    for axis in axes:\n",
    "        expr = integrate(expr, (axis, -oo, oo))\n",
    "    return expr\n",
    "\n",
    "def energy(*axes):\n",
    "    phi = exp(-omega * sum(axis**2 for axis in axes) / 2)\n",
    "    potential = phi * ( omega**2 / 2 * sum(axis**2 for axis in axes) ) * phi\n",
    "    kinetic = - phi * laplace(phi, *axes) / 2\n",
    "    return integralND(potential + kinetic, *axes) / integralND(phi * phi, *axes)\n",
    "    "
   ]
  },
  {
   "cell_type": "markdown",
   "metadata": {},
   "source": [
    "# One particle, 2D Symmetrical HO"
   ]
  },
  {
   "cell_type": "code",
   "execution_count": 83,
   "metadata": {
    "collapsed": false
   },
   "outputs": [
    {
     "data": {
      "image/png": "[encoded data removed]",
      "text/latex": [
       "$$ω$$"
      ],
      "text/plain": [
       "ω"
      ]
     },
     "execution_count": 83,
     "metadata": {},
     "output_type": "execute_result"
    }
   ],
   "source": [
    "axes = symbols('x_1 y_1')\n",
    "energy(*axes)"
   ]
  },
  {
   "cell_type": "markdown",
   "metadata": {},
   "source": [
    "# Two particles, 2D Symmetrical HO"
   ]
  },
  {
   "cell_type": "code",
   "execution_count": 84,
   "metadata": {
    "collapsed": false
   },
   "outputs": [
    {
     "data": {
      "image/png": "[encoded data removed]",
      "text/latex": [
       "$$2 ω$$"
      ],
      "text/plain": [
       "2⋅ω"
      ]
     },
     "execution_count": 84,
     "metadata": {},
     "output_type": "execute_result"
    }
   ],
   "source": [
    "axes = symbols('x_1 y_1 x_2 y_2')\n",
    "energy(*axes)"
   ]
  },
  {
   "cell_type": "markdown",
   "metadata": {},
   "source": [
    "# 5 particles, 3D Symmetrical HO"
   ]
  },
  {
   "cell_type": "code",
   "execution_count": 87,
   "metadata": {
    "collapsed": false
   },
   "outputs": [
    {
     "data": {
      "image/png": "[encoded data removed]",
      "text/latex": [
       "$$\\frac{15 ω}{2}$$"
      ],
      "text/plain": [
       "15⋅ω\n",
       "────\n",
       " 2  "
      ]
     },
     "execution_count": 87,
     "metadata": {},
     "output_type": "execute_result"
    }
   ],
   "source": [
    "axes = symbols(' '.join('x_{0} y_{0} z_{0}'.format(i) for i in range(1, 6)))\n",
    "energy(*axes)"
   ]
  },
  {
   "cell_type": "code",
   "execution_count": null,
   "metadata": {
    "collapsed": true
   },
   "outputs": [],
   "source": []
  }
 ],
 "metadata": {
  "kernelspec": {
   "display_name": "Python 3",
   "language": "python",
   "name": "python3"
  },
  "language_info": {
   "codemirror_mode": {
    "name": "ipython",
    "version": 3
   },
   "file_extension": ".py",
   "mimetype": "text/x-python",
   "name": "python",
   "nbconvert_exporter": "python",
   "pygments_lexer": "ipython3",
   "version": "3.6.4"
  }
 },
 "nbformat": 4,
 "nbformat_minor": 2
}
